{
 "cells": [
  {
   "cell_type": "code",
   "execution_count": 7,
   "metadata": {},
   "outputs": [
    {
     "name": "stdout",
     "output_type": "stream",
     "text": [
      "Training completed\n"
     ]
    }
   ],
   "source": [
    "import torch\n",
    "import torch.nn as nn\n",
    "from torch.optim import Adam\n",
    "\n",
    "# Create a simple sequential model\n",
    "class TopLayerModel(nn.Module):\n",
    "    def __init__(self):\n",
    "        super().__init__()\n",
    "        self.model_top = nn.Linear(10, 10)\n",
    "        self.model_bottom = nn.Linear(10, 10)\n",
    "    \n",
    "    def forward(self, x):\n",
    "        mid = self.model_top(x)\n",
    "        res = self.model_bottom(mid)\n",
    "        return res\n",
    "\n",
    "class BottomLayerModel(nn.Module):\n",
    "    def __init__(self):\n",
    "        super().__init__()\n",
    "        self.model_top = nn.Linear(10, 10)\n",
    "        self.model_bottom = nn.Linear(10, 10)\n",
    "    \n",
    "    def forward(self, x):\n",
    "        mid = self.model_top(x)\n",
    "        res = self.model_bottom(mid)\n",
    "        return res\n",
    "\n",
    "# Create the model, data, and label\n",
    "model_1 = TopLayerModel()\n",
    "model_2 = BottomLayerModel()\n",
    "data = torch.randn(10, 10)\n",
    "label = torch.randn(10, 10)  # Changed to match output dimensions\n",
    "\n",
    "# Define loss function and optimizer\n",
    "criterion = nn.MSELoss()  # Mean Squared Error Loss\n",
    "optimizer = Adam(list(model_1.parameters()) + list(model_2.parameters()), lr=0.01)\n",
    "\n",
    "# Training loop\n",
    "for i in range(len(data)):\n",
    "    # Forward pass\n",
    "    mid = model_1(data[i])\n",
    "    output = model_2(mid)\n",
    "    # Compute loss\n",
    "    loss = criterion(output, label[i])\n",
    "    \n",
    "    # Backward pass and optimization\n",
    "    optimizer.zero_grad()  # Clear previous gradients\n",
    "    loss.backward()  # Compute gradients\n",
    "    optimizer.step()  # Update weights\n",
    "\n",
    "print(\"Training completed\")"
   ]
  },
  {
   "cell_type": "code",
   "execution_count": 44,
   "metadata": {},
   "outputs": [],
   "source": [
    "mid = model_1(data)"
   ]
  },
  {
   "cell_type": "code",
   "execution_count": 45,
   "metadata": {},
   "outputs": [],
   "source": [
    "origin = model_1.model_top.weight.grad.clone()\n",
    "temp = mid.backward(mid)"
   ]
  },
  {
   "cell_type": "code",
   "execution_count": 46,
   "metadata": {},
   "outputs": [
    {
     "data": {
      "text/plain": [
       "tensor([[-0.6739,  0.8733, -2.2917,  0.1962, -1.9680, -0.1031,  2.6754,  2.2440,\n",
       "         -0.6448, -1.3684],\n",
       "        [-1.4185, -1.7410,  2.8086,  0.3013,  5.0130,  0.5512, -1.1715, -2.2556,\n",
       "         -0.9182,  0.7075],\n",
       "        [ 0.5704,  0.7194, -0.5579, -1.6517, -2.5884,  0.0563,  1.1403, -0.1397,\n",
       "         -0.1527, -0.5924],\n",
       "        [-0.6923, -1.6897,  2.0461, -2.6493,  1.1787,  0.8480,  1.8622, -1.5850,\n",
       "         -1.1256, -0.5462],\n",
       "        [-1.2800, -2.1011,  0.6457, -2.5031,  1.0510,  0.8713,  3.7191,  0.1847,\n",
       "         -1.8082, -1.7442],\n",
       "        [-0.5372,  0.2782,  0.6465,  3.8172,  4.1460, -0.4705, -3.2410, -0.9766,\n",
       "          0.7231,  1.9991],\n",
       "        [ 1.2317,  1.7669, -2.2172,  1.7809, -2.3992, -0.8241, -1.2435,  1.4593,\n",
       "          1.3839,  0.4791],\n",
       "        [ 0.7848,  3.0820, -2.9233,  4.5025, -1.0622, -1.2415, -3.1004,  1.5706,\n",
       "          1.7552,  1.4707],\n",
       "        [ 0.8009,  0.8789, -1.4354,  0.6793, -1.7364, -0.4106, -0.4512,  1.1243,\n",
       "          0.8278,  0.0489],\n",
       "        [-0.7204, -2.1763,  3.3650, -0.0281,  4.6126,  0.4902, -1.8828, -2.3440,\n",
       "         -0.3545,  1.0093]])"
      ]
     },
     "execution_count": 46,
     "metadata": {},
     "output_type": "execute_result"
    }
   ],
   "source": [
    "model_1.model_top.weight.grad - origin"
   ]
  },
  {
   "cell_type": "code",
   "execution_count": null,
   "metadata": {},
   "outputs": [],
   "source": []
  }
 ],
 "metadata": {
  "kernelspec": {
   "display_name": "sf",
   "language": "python",
   "name": "python3"
  },
  "language_info": {
   "codemirror_mode": {
    "name": "ipython",
    "version": 3
   },
   "file_extension": ".py",
   "mimetype": "text/x-python",
   "name": "python",
   "nbconvert_exporter": "python",
   "pygments_lexer": "ipython3",
   "version": "3.10.15"
  }
 },
 "nbformat": 4,
 "nbformat_minor": 2
}
